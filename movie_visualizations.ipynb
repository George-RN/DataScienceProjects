{
 "cells": [
  {
   "cell_type": "markdown",
   "id": "b6a10dd1",
   "metadata": {},
   "source": [
    "The purpose of this code is to perform some EDA on the information stored in the IMDB movies dataset. It is to practice data visualisation. First the relevant modules will need to be imported:"
   ]
  },
  {
   "cell_type": "code",
   "execution_count": null,
   "id": "200a448f",
   "metadata": {},
   "outputs": [],
   "source": [
    "import pandas as pd\n",
    "import matplotlib.pyplot as plt\n",
    "from matplotlib.legend_handler import HandlerBase\n",
    "from matplotlib.text import Text\n",
    "from matplotlib.legend import Legend\n"
   ]
  },
  {
   "cell_type": "markdown",
   "id": "24228c16",
   "metadata": {},
   "source": [
    "The dataframe is first loaded into data. By calling .head() we can get an idea of the data. There are over 10,000 rows in the dataframe, which will make visualisation of each entry difficult. Going forward, it will be important to group the data apropriately and use averages where necessary. "
   ]
  },
  {
   "cell_type": "code",
   "execution_count": null,
   "id": "27711b64",
   "metadata": {},
   "outputs": [],
   "source": [
    "data = pd.read_csv('imdb_movies.csv')\n",
    "\n",
    "print(data.head())\n",
    "print(len(data))"
   ]
  },
  {
   "cell_type": "markdown",
   "id": "8d7ee1c2",
   "metadata": {},
   "source": [
    "There are 12 columns of data. First, the distribution of different languages will be considered. "
   ]
  },
  {
   "cell_type": "code",
   "execution_count": null,
   "id": "730abb48",
   "metadata": {},
   "outputs": [],
   "source": [
    "language = data.groupby(['orig_lang'])['orig_lang'].count()\n",
    "\n",
    "print(len(language))"
   ]
  },
  {
   "cell_type": "markdown",
   "id": "a96c0134",
   "metadata": {},
   "source": [
    "There are 54 entries, which would make visualisation a bit difficult. In order to make this easier, we can group the less common languages as 'Other':"
   ]
  },
  {
   "cell_type": "code",
   "execution_count": null,
   "id": "8e7ce01f",
   "metadata": {},
   "outputs": [],
   "source": [
    "readable_language = {'Other' : 0}\n",
    "i = 0\n",
    "for entry in language:\n",
    "    if entry > 50:\n",
    "        readable_language[language.index[i]] = entry\n",
    "    else:\n",
    "        readable_language['Other'] = readable_language['Other'] + entry\n",
    "    i += 1"
   ]
  },
  {
   "cell_type": "markdown",
   "id": "40156aba",
   "metadata": {},
   "source": [
    "We can then visualize these as a piechart:"
   ]
  },
  {
   "cell_type": "code",
   "execution_count": null,
   "id": "586cd4b6",
   "metadata": {},
   "outputs": [],
   "source": [
    "plt.pie(readable_language.values(), labels=readable_language.keys(), autopct=\"%0.2f%%\")\n",
    "plt.title('Percentage of language for each title in IDMB database')\n",
    "plt.show()"
   ]
  },
  {
   "cell_type": "markdown",
   "id": "f9f769c6",
   "metadata": {},
   "source": [
    "As English is the language of the overwhelming majority of titles with 72.87%, it might be helpful to view the data in terms of non-English titles. "
   ]
  },
  {
   "cell_type": "code",
   "execution_count": null,
   "id": "1a87cbf4",
   "metadata": {},
   "outputs": [],
   "source": [
    "readable_language.pop(' English')\n",
    "\n",
    "plt.pie(readable_language.values(), labels=readable_language.keys(), autopct=\"%0.2f%%\")\n",
    "plt.title('Percentage of non-English titles in IDMB database')\n",
    "plt.show()"
   ]
  },
  {
   "cell_type": "markdown",
   "id": "b5ca519d",
   "metadata": {},
   "source": [
    "We can view the average scores for the titles based on their language. We first need to calculate the mean for each language:"
   ]
  },
  {
   "cell_type": "code",
   "execution_count": null,
   "id": "10f5346c",
   "metadata": {},
   "outputs": [],
   "source": [
    "mean_scores = data.groupby(['orig_lang'])['score'].mean()"
   ]
  },
  {
   "cell_type": "markdown",
   "id": "b0e0ac24",
   "metadata": {},
   "source": [
    "If the language is not frequent enough to be considered one of the majority language, i.e. falling into the 'other' class from above, we can check this by comparing to the keys of the readable_language dictionary. A new average can then be calculated for all of the titles whose language comes under the 'other' umbrella. "
   ]
  },
  {
   "cell_type": "code",
   "execution_count": null,
   "id": "7b627702",
   "metadata": {},
   "outputs": [],
   "source": [
    "lang_scores = {}\n",
    "\n",
    "i = 0\n",
    "others = []\n",
    "for entry in mean_scores:\n",
    "    if mean_scores.index[i] in readable_language.keys():\n",
    "        lang_scores[mean_scores.index[i]] = entry\n",
    "    else:\n",
    "        others.append(entry)\n",
    "    i += 1\n",
    "\n",
    "lang_scores['Other'] = (sum(others)) / len(others)"
   ]
  },
  {
   "cell_type": "markdown",
   "id": "ee474f66",
   "metadata": {},
   "source": [
    "This data can then be visualized as a bar chart:"
   ]
  },
  {
   "cell_type": "code",
   "execution_count": null,
   "id": "7e7ae1e5",
   "metadata": {},
   "outputs": [],
   "source": [
    "fig = plt.figure()\n",
    "\n",
    "plt.bar(lang_scores.keys(), lang_scores.values())\n",
    "plt.title('Average rating by language group')\n",
    "plt.xlabel('Title language')\n",
    "plt.ylabel('Average user score')\n",
    "plt.show()"
   ]
  },
  {
   "cell_type": "markdown",
   "id": "42e5f476",
   "metadata": {},
   "source": [
    "We can use a scatterplot to see the relationship between the average budget and score for each country. The values in 'country' are saved with the Alpha-2 country codes. To help provide a legend that helps identify each country on the plot, we can produce a dictionary that matches the code with the country name. I load in a .csv file that contains a list of the countries and their codes. Two codes provided errors as they were not in the list, so I googled them and had them be added as a result of error handling in the loop. "
   ]
  },
  {
   "cell_type": "code",
   "execution_count": null,
   "id": "9f454df3",
   "metadata": {},
   "outputs": [],
   "source": [
    "countries = data.groupby(['country'])['country'].count()\n",
    "country_code_dict = {}\n",
    "\n",
    "\n",
    "for entry in list(countries.index):\n",
    "    try:\n",
    "        country_code_dict[(country_codes['English short name lower case'].loc[country_codes['Alpha-2 code'] == entry]).iloc[0]] = entry\n",
    "\n",
    "    except IndexError:\n",
    "        if entry == 'SU':\n",
    "            country_code_dict['USSR'] = entry\n",
    "        else:\n",
    "            country_code_dict['International'] = entry\n",
    "\n",
    "\n",
    "\n",
    "country_code_df = pd.DataFrame(country_code_dict.items(), columns=['Countries', 'Codes'])"
   ]
  },
  {
   "cell_type": "markdown",
   "id": "519ef98c",
   "metadata": {},
   "source": [
    "I wanted to add a legend to the scatterplot to improve readability by giving the country code next to the country name. As the legend only works with handles that are artists (i.e. not string), I had to look up code from stackoverflow to assist in transforming the string with the country code into a handle for the legend:"
   ]
  },
  {
   "cell_type": "code",
   "execution_count": null,
   "id": "dfee8c81",
   "metadata": {},
   "outputs": [],
   "source": [
    "class TextHandlerB(HandlerBase):\n",
    "    def create_artists(self, legend, text ,xdescent, ydescent,\n",
    "                        width, height, fontsize, trans):\n",
    "        tx = Text(width/2.,height/2, text, fontsize=fontsize,\n",
    "                  ha=\"center\", va=\"center\", fontweight=\"bold\")\n",
    "        return [tx]\n",
    "\n",
    "Legend.update_default_handler_map({str : TextHandlerB()})"
   ]
  },
  {
   "cell_type": "markdown",
   "id": "ee52af0a",
   "metadata": {},
   "source": [
    "The x and y values for the scatterplot are stored in the variables:"
   ]
  },
  {
   "cell_type": "code",
   "execution_count": null,
   "id": "26724e30",
   "metadata": {},
   "outputs": [],
   "source": [
    "countries_b = data.groupby(['country'])['budget_x'].mean()\n",
    "countries_s = data.groupby(['country'])['score'].mean()"
   ]
  },
  {
   "cell_type": "markdown",
   "id": "741b514d",
   "metadata": {},
   "source": [
    "The mean scores and budgets are plotted for each country and annotate is used to give each plot a country code for identification: "
   ]
  },
  {
   "cell_type": "code",
   "execution_count": null,
   "id": "698db8ac",
   "metadata": {},
   "outputs": [],
   "source": [
    "plt.scatter(countries_b, countries_s)\n",
    "plt.title('Country mean budget vs score')\n",
    "\n",
    "i = 0 \n",
    "while i < len(countries.index):\n",
    "    plt.annotate(countries.index[i], (countries_b[i], countries_s[i]))\n",
    "    i += 1"
   ]
  },
  {
   "cell_type": "markdown",
   "id": "a1816337",
   "metadata": {},
   "source": [
    "Handles is used to add the new handle to the legend. As there are 60 countries, the legend needs to be positioned outside of the graph area to ensure its readability without overlapping any of the plots. "
   ]
  },
  {
   "cell_type": "code",
   "execution_count": null,
   "id": "b4c2300b",
   "metadata": {},
   "outputs": [],
   "source": [
    "plt.legend(handles=list(country_code_df['Codes']), labels=list(country_code_df['Countries']), ncols=10, loc='upper center', bbox_to_anchor=(0.5, -0.05),\n",
    "          fancybox=True, shadow=True)\n",
    "plt.xlabel('Mean budgets')\n",
    "plt.ylabel('Mean user score')\n",
    "plt.subplots_adjust(bottom = 0.18, top = 0.936)\n",
    "plt.show()"
   ]
  },
  {
   "cell_type": "markdown",
   "id": "ddef97bc",
   "metadata": {},
   "source": [
    "Boxplots are helpful to show the distribution of the lowest range of scores and the higher range of scores. To increase accuracy of reading the boxplot, I run a loop to increment by 2 and save it to x, which is then set as the .xticks() on the plot:"
   ]
  },
  {
   "cell_type": "code",
   "execution_count": null,
   "id": "a17c5d29",
   "metadata": {},
   "outputs": [],
   "source": [
    "x = []\n",
    "i = 0\n",
    "while i < 100:\n",
    "    x.append(i)\n",
    "    i += 2\n",
    "\n",
    "\n",
    "plt.boxplot(data['score'], vert=False)\n",
    "plt.title('Boxplot showing the distribution of scores in the database')\n",
    "plt.ylabel('Plot showing the range of scores')\n",
    "plt.xlabel('Range of scores from 0 - 100')\n",
    "plt.xticks(x)\n",
    "plt.margins(x=0, y=0)\n",
    "plt.show()"
   ]
  },
  {
   "cell_type": "markdown",
   "id": "4980ce5e",
   "metadata": {},
   "source": [
    "From this, we can see that the lowest 25% of scores are 59 and below, and the highest from 71 and above. We can filter for these and save them in variables:"
   ]
  },
  {
   "cell_type": "code",
   "execution_count": null,
   "id": "f8c77c16",
   "metadata": {},
   "outputs": [],
   "source": [
    "lower_scores = data[data['score'] < 60]\n",
    "higher_scores = data[data['score'] > 70]"
   ]
  },
  {
   "cell_type": "markdown",
   "id": "24a89310",
   "metadata": {},
   "source": [
    "We can use boxplots to see how these titles have done in terms of revenue:"
   ]
  },
  {
   "cell_type": "code",
   "execution_count": null,
   "id": "fbd90132",
   "metadata": {},
   "outputs": [],
   "source": [
    "plt.boxplot([lower_scores['revenue'], higher_scores['revenue']], labels=['Lower scores', 'Higher scores'], vert=False, notch=True, patch_artist=True, \n",
    "            boxprops = dict(linestyle='-', linewidth=1, color='k', facecolor='#d0f3f7'), \n",
    "            medianprops= dict(linestyle='-', linewidth=2, color='r'))\n",
    "\n",
    "\n",
    "plt.ylabel('Range of scores')\n",
    "plt.xlabel('Revenue of the titles')\n",
    "plt.title('The revenue made for the titles in the lowest and highest score quartiles')\n",
    "\n",
    "plt.show()"
   ]
  },
  {
   "cell_type": "markdown",
   "id": "2ef29c8c",
   "metadata": {},
   "source": [
    "We can see that both plots are right-skewed, with the higher scores having a higher level of revenue in terms of Q3 and Q4. The outliers for the higher scores tend to be at higher levels of revenue as well. The box plot would suggest a relationship between higher scores and higher levels of revenue. However, the Q1 and Q2 figures for lower and higher scores are relatively similar. This is useful to note if we wanted to determine a model for predicting revenue, as it shows us that score, wouldn't be sole determining factor. "
   ]
  }
 ],
 "metadata": {
  "kernelspec": {
   "display_name": "Python 3 (ipykernel)",
   "language": "python",
   "name": "python3"
  },
  "language_info": {
   "codemirror_mode": {
    "name": "ipython",
    "version": 3
   },
   "file_extension": ".py",
   "mimetype": "text/x-python",
   "name": "python",
   "nbconvert_exporter": "python",
   "pygments_lexer": "ipython3",
   "version": "3.10.9"
  }
 },
 "nbformat": 4,
 "nbformat_minor": 5
}
